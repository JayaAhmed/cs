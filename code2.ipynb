{
  "nbformat": 4,
  "nbformat_minor": 0,
  "metadata": {
    "colab": {
      "name": "cs.ipynb",
      "provenance": []
    },
    "kernelspec": {
      "name": "python3",
      "display_name": "Python 3"
    }
  },
  "cells": [
    {
      "cell_type": "code",
      "metadata": {
        "id": "LLOUp9doNxGW",
        "colab_type": "code",
        "colab": {}
      },
      "source": [
        "import re\n",
        "import sys\n",
        "from sklearn.metrics import confusion_matrix\n",
        "import time\n",
        "import datetime\n",
        "\n",
        "import numpy as np\n",
        "import pandas as pd\n",
        "\n",
        "import seaborn as sns\n",
        "import matplotlib.pyplot as plt\n",
        "\n",
        "from sklearn import metrics\n",
        "from sklearn import preprocessing\n",
        "from sklearn.neighbors import KNeighborsRegressor\n",
        "from sklearn.ensemble import RandomForestRegressor\n",
        "from sklearn.model_selection import train_test_split\n",
        "from google.colab import files"
      ],
      "execution_count": 0,
      "outputs": []
    },
    {
      "cell_type": "code",
      "metadata": {
        "id": "Vi6JXOBtaiWT",
        "colab_type": "code",
        "outputId": "1837e7a5-99e4-416b-ab72-6d105b75d3eb",
        "colab": {
          "resources": {
            "http://localhost:8080/nbextensions/google.colab/files.js": {
              "data": "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",
              "ok": true,
              "headers": [
                [
                  "content-type",
                  "application/javascript"
                ]
              ],
              "status": 200,
              "status_text": ""
            }
          },
          "base_uri": "https://localhost:8080/",
          "height": 74
        }
      },
      "source": [
        "# Loading the data\n",
        "uploaded = files.upload()"
      ],
      "execution_count": 0,
      "outputs": [
        {
          "output_type": "display_data",
          "data": {
            "text/html": [
              "\n",
              "     <input type=\"file\" id=\"files-760046b4-3a86-42ca-b6cb-1aabf8530367\" name=\"files[]\" multiple disabled />\n",
              "     <output id=\"result-760046b4-3a86-42ca-b6cb-1aabf8530367\">\n",
              "      Upload widget is only available when the cell has been executed in the\n",
              "      current browser session. Please rerun this cell to enable.\n",
              "      </output>\n",
              "      <script src=\"/nbextensions/google.colab/files.js\"></script> "
            ],
            "text/plain": [
              "<IPython.core.display.HTML object>"
            ]
          },
          "metadata": {
            "tags": []
          }
        },
        {
          "output_type": "stream",
          "text": [
            "Saving hygdata_v3.csv to hygdata_v3.csv\n"
          ],
          "name": "stdout"
        }
      ]
    },
    {
      "cell_type": "code",
      "metadata": {
        "id": "XPpPrDWqcltK",
        "colab_type": "code",
        "colab": {}
      },
      "source": [
        "df = pd.read_csv('hygdata_v3.csv')"
      ],
      "execution_count": 0,
      "outputs": []
    },
    {
      "cell_type": "code",
      "metadata": {
        "id": "k6SHulWRfP_v",
        "colab_type": "code",
        "outputId": "c7ce9bc4-91ee-488c-e6eb-250241be58a2",
        "colab": {
          "base_uri": "https://localhost:8080/",
          "height": 274
        }
      },
      "source": [
        "df.head()"
      ],
      "execution_count": 0,
      "outputs": [
        {
          "output_type": "execute_result",
          "data": {
            "text/html": [
              "<div>\n",
              "<style scoped>\n",
              "    .dataframe tbody tr th:only-of-type {\n",
              "        vertical-align: middle;\n",
              "    }\n",
              "\n",
              "    .dataframe tbody tr th {\n",
              "        vertical-align: top;\n",
              "    }\n",
              "\n",
              "    .dataframe thead th {\n",
              "        text-align: right;\n",
              "    }\n",
              "</style>\n",
              "<table border=\"1\" class=\"dataframe\">\n",
              "  <thead>\n",
              "    <tr style=\"text-align: right;\">\n",
              "      <th></th>\n",
              "      <th>id</th>\n",
              "      <th>hip</th>\n",
              "      <th>hd</th>\n",
              "      <th>hr</th>\n",
              "      <th>gl</th>\n",
              "      <th>bf</th>\n",
              "      <th>proper</th>\n",
              "      <th>ra</th>\n",
              "      <th>dec</th>\n",
              "      <th>dist</th>\n",
              "      <th>pmra</th>\n",
              "      <th>pmdec</th>\n",
              "      <th>rv</th>\n",
              "      <th>mag</th>\n",
              "      <th>absmag</th>\n",
              "      <th>spect</th>\n",
              "      <th>ci</th>\n",
              "      <th>x</th>\n",
              "      <th>y</th>\n",
              "      <th>z</th>\n",
              "      <th>vx</th>\n",
              "      <th>vy</th>\n",
              "      <th>vz</th>\n",
              "      <th>rarad</th>\n",
              "      <th>decrad</th>\n",
              "      <th>pmrarad</th>\n",
              "      <th>pmdecrad</th>\n",
              "      <th>bayer</th>\n",
              "      <th>flam</th>\n",
              "      <th>con</th>\n",
              "      <th>comp</th>\n",
              "      <th>comp_primary</th>\n",
              "      <th>base</th>\n",
              "      <th>lum</th>\n",
              "      <th>var</th>\n",
              "      <th>var_min</th>\n",
              "      <th>var_max</th>\n",
              "    </tr>\n",
              "  </thead>\n",
              "  <tbody>\n",
              "    <tr>\n",
              "      <th>0</th>\n",
              "      <td>0</td>\n",
              "      <td>NaN</td>\n",
              "      <td>NaN</td>\n",
              "      <td>NaN</td>\n",
              "      <td>NaN</td>\n",
              "      <td>NaN</td>\n",
              "      <td>Sol</td>\n",
              "      <td>0.000000</td>\n",
              "      <td>0.000000</td>\n",
              "      <td>0.0000</td>\n",
              "      <td>0.00</td>\n",
              "      <td>0.00</td>\n",
              "      <td>0.0</td>\n",
              "      <td>-26.70</td>\n",
              "      <td>4.850</td>\n",
              "      <td>G2V</td>\n",
              "      <td>0.656</td>\n",
              "      <td>0.000005</td>\n",
              "      <td>0.000000</td>\n",
              "      <td>0.000000</td>\n",
              "      <td>0.000000e+00</td>\n",
              "      <td>0.000000</td>\n",
              "      <td>0.000000e+00</td>\n",
              "      <td>0.000000</td>\n",
              "      <td>0.000000</td>\n",
              "      <td>0.000000e+00</td>\n",
              "      <td>0.000000e+00</td>\n",
              "      <td>NaN</td>\n",
              "      <td>NaN</td>\n",
              "      <td>NaN</td>\n",
              "      <td>1</td>\n",
              "      <td>0</td>\n",
              "      <td>NaN</td>\n",
              "      <td>1.000000</td>\n",
              "      <td>NaN</td>\n",
              "      <td>NaN</td>\n",
              "      <td>NaN</td>\n",
              "    </tr>\n",
              "    <tr>\n",
              "      <th>1</th>\n",
              "      <td>1</td>\n",
              "      <td>1.0</td>\n",
              "      <td>224700.0</td>\n",
              "      <td>NaN</td>\n",
              "      <td>NaN</td>\n",
              "      <td>NaN</td>\n",
              "      <td>NaN</td>\n",
              "      <td>0.000060</td>\n",
              "      <td>1.089009</td>\n",
              "      <td>219.7802</td>\n",
              "      <td>-5.20</td>\n",
              "      <td>-1.88</td>\n",
              "      <td>0.0</td>\n",
              "      <td>9.10</td>\n",
              "      <td>2.390</td>\n",
              "      <td>F5</td>\n",
              "      <td>0.482</td>\n",
              "      <td>219.740502</td>\n",
              "      <td>0.003449</td>\n",
              "      <td>4.177065</td>\n",
              "      <td>4.000000e-08</td>\n",
              "      <td>-0.000006</td>\n",
              "      <td>-2.000000e-06</td>\n",
              "      <td>0.000016</td>\n",
              "      <td>0.019007</td>\n",
              "      <td>-2.521031e-08</td>\n",
              "      <td>-9.114497e-09</td>\n",
              "      <td>NaN</td>\n",
              "      <td>NaN</td>\n",
              "      <td>Psc</td>\n",
              "      <td>1</td>\n",
              "      <td>1</td>\n",
              "      <td>NaN</td>\n",
              "      <td>9.638290</td>\n",
              "      <td>NaN</td>\n",
              "      <td>NaN</td>\n",
              "      <td>NaN</td>\n",
              "    </tr>\n",
              "    <tr>\n",
              "      <th>2</th>\n",
              "      <td>2</td>\n",
              "      <td>2.0</td>\n",
              "      <td>224690.0</td>\n",
              "      <td>NaN</td>\n",
              "      <td>NaN</td>\n",
              "      <td>NaN</td>\n",
              "      <td>NaN</td>\n",
              "      <td>0.000283</td>\n",
              "      <td>-19.498840</td>\n",
              "      <td>47.9616</td>\n",
              "      <td>181.21</td>\n",
              "      <td>-0.93</td>\n",
              "      <td>0.0</td>\n",
              "      <td>9.27</td>\n",
              "      <td>5.866</td>\n",
              "      <td>K3V</td>\n",
              "      <td>0.999</td>\n",
              "      <td>45.210918</td>\n",
              "      <td>0.003365</td>\n",
              "      <td>-16.008996</td>\n",
              "      <td>-7.000000e-08</td>\n",
              "      <td>0.000042</td>\n",
              "      <td>-2.000000e-07</td>\n",
              "      <td>0.000074</td>\n",
              "      <td>-0.340319</td>\n",
              "      <td>8.785309e-07</td>\n",
              "      <td>-4.508767e-09</td>\n",
              "      <td>NaN</td>\n",
              "      <td>NaN</td>\n",
              "      <td>Cet</td>\n",
              "      <td>1</td>\n",
              "      <td>2</td>\n",
              "      <td>NaN</td>\n",
              "      <td>0.392283</td>\n",
              "      <td>NaN</td>\n",
              "      <td>NaN</td>\n",
              "      <td>NaN</td>\n",
              "    </tr>\n",
              "    <tr>\n",
              "      <th>3</th>\n",
              "      <td>3</td>\n",
              "      <td>3.0</td>\n",
              "      <td>224699.0</td>\n",
              "      <td>NaN</td>\n",
              "      <td>NaN</td>\n",
              "      <td>NaN</td>\n",
              "      <td>NaN</td>\n",
              "      <td>0.000335</td>\n",
              "      <td>38.859279</td>\n",
              "      <td>442.4779</td>\n",
              "      <td>5.24</td>\n",
              "      <td>-2.91</td>\n",
              "      <td>0.0</td>\n",
              "      <td>6.61</td>\n",
              "      <td>-1.619</td>\n",
              "      <td>B9</td>\n",
              "      <td>-0.019</td>\n",
              "      <td>344.552785</td>\n",
              "      <td>0.030213</td>\n",
              "      <td>277.614965</td>\n",
              "      <td>3.920000e-06</td>\n",
              "      <td>0.000011</td>\n",
              "      <td>-4.860000e-06</td>\n",
              "      <td>0.000088</td>\n",
              "      <td>0.678222</td>\n",
              "      <td>2.540424e-08</td>\n",
              "      <td>-1.410808e-08</td>\n",
              "      <td>NaN</td>\n",
              "      <td>NaN</td>\n",
              "      <td>And</td>\n",
              "      <td>1</td>\n",
              "      <td>3</td>\n",
              "      <td>NaN</td>\n",
              "      <td>386.901132</td>\n",
              "      <td>NaN</td>\n",
              "      <td>NaN</td>\n",
              "      <td>NaN</td>\n",
              "    </tr>\n",
              "    <tr>\n",
              "      <th>4</th>\n",
              "      <td>4</td>\n",
              "      <td>4.0</td>\n",
              "      <td>224707.0</td>\n",
              "      <td>NaN</td>\n",
              "      <td>NaN</td>\n",
              "      <td>NaN</td>\n",
              "      <td>NaN</td>\n",
              "      <td>0.000569</td>\n",
              "      <td>-51.893546</td>\n",
              "      <td>134.2282</td>\n",
              "      <td>62.85</td>\n",
              "      <td>0.16</td>\n",
              "      <td>0.0</td>\n",
              "      <td>8.06</td>\n",
              "      <td>2.421</td>\n",
              "      <td>F0V</td>\n",
              "      <td>0.370</td>\n",
              "      <td>82.835513</td>\n",
              "      <td>0.012476</td>\n",
              "      <td>-105.619540</td>\n",
              "      <td>8.000000e-08</td>\n",
              "      <td>0.000041</td>\n",
              "      <td>6.000000e-08</td>\n",
              "      <td>0.000149</td>\n",
              "      <td>-0.905713</td>\n",
              "      <td>3.047054e-07</td>\n",
              "      <td>7.757010e-10</td>\n",
              "      <td>NaN</td>\n",
              "      <td>NaN</td>\n",
              "      <td>Phe</td>\n",
              "      <td>1</td>\n",
              "      <td>4</td>\n",
              "      <td>NaN</td>\n",
              "      <td>9.366989</td>\n",
              "      <td>NaN</td>\n",
              "      <td>NaN</td>\n",
              "      <td>NaN</td>\n",
              "    </tr>\n",
              "  </tbody>\n",
              "</table>\n",
              "</div>"
            ],
            "text/plain": [
              "   id  hip        hd  hr   gl  ... base         lum  var  var_min  var_max\n",
              "0   0  NaN       NaN NaN  NaN  ...  NaN    1.000000  NaN      NaN      NaN\n",
              "1   1  1.0  224700.0 NaN  NaN  ...  NaN    9.638290  NaN      NaN      NaN\n",
              "2   2  2.0  224690.0 NaN  NaN  ...  NaN    0.392283  NaN      NaN      NaN\n",
              "3   3  3.0  224699.0 NaN  NaN  ...  NaN  386.901132  NaN      NaN      NaN\n",
              "4   4  4.0  224707.0 NaN  NaN  ...  NaN    9.366989  NaN      NaN      NaN\n",
              "\n",
              "[5 rows x 37 columns]"
            ]
          },
          "metadata": {
            "tags": []
          },
          "execution_count": 52
        }
      ]
    },
    {
      "cell_type": "code",
      "metadata": {
        "id": "-iVO-DTxJ3LB",
        "colab_type": "code",
        "colab": {}
      },
      "source": [
        "%matplotlib inline\n",
        "sns.set(style='darkgrid')\n",
        "sns.set_palette('PuBuGn_d')"
      ],
      "execution_count": 0,
      "outputs": []
    },
    {
      "cell_type": "code",
      "metadata": {
        "id": "_qdc71D6J7p1",
        "colab_type": "code",
        "outputId": "ae8e591c-0c84-4851-8b71-5e1a93b6748a",
        "colab": {
          "base_uri": "https://localhost:8080/",
          "height": 1000
        }
      },
      "source": [
        "df.isnull().sum()\n",
        "plt.figure(figsize=(14, 10))\n",
        "sns.heatmap(df.isnull(), cmap='viridis')\n",
        "df.isnull().any()"
      ],
      "execution_count": 0,
      "outputs": [
        {
          "output_type": "execute_result",
          "data": {
            "text/plain": [
              "id              False\n",
              "hip              True\n",
              "hd               True\n",
              "hr               True\n",
              "gl               True\n",
              "bf               True\n",
              "proper           True\n",
              "ra              False\n",
              "dec             False\n",
              "dist            False\n",
              "pmra            False\n",
              "pmdec           False\n",
              "rv              False\n",
              "mag             False\n",
              "absmag          False\n",
              "spect            True\n",
              "ci               True\n",
              "x               False\n",
              "y               False\n",
              "z               False\n",
              "vx              False\n",
              "vy              False\n",
              "vz              False\n",
              "rarad           False\n",
              "decrad          False\n",
              "pmrarad         False\n",
              "pmdecrad        False\n",
              "bayer            True\n",
              "flam             True\n",
              "con              True\n",
              "comp            False\n",
              "comp_primary    False\n",
              "base             True\n",
              "lum             False\n",
              "var              True\n",
              "var_min          True\n",
              "var_max          True\n",
              "dtype: bool"
            ]
          },
          "metadata": {
            "tags": []
          },
          "execution_count": 13
        },
        {
          "output_type": "display_data",
          "data": {
            "image/png": "[encoded data removed]",
            "text/plain": [
              "<Figure size 1008x720 with 2 Axes>"
            ]
          },
          "metadata": {
            "tags": []
          }
        }
      ]
    },
    {
      "cell_type": "code",
      "metadata": {
        "id": "NAcD3YcL788S",
        "colab_type": "code",
        "outputId": "9569499e-e3a2-4d83-e086-0cdfeaecfa0b",
        "colab": {
          "base_uri": "https://localhost:8080/",
          "height": 34
        }
      },
      "source": [
        "df.shape"
      ],
      "execution_count": 0,
      "outputs": [
        {
          "output_type": "execute_result",
          "data": {
            "text/plain": [
              "(119614, 37)"
            ]
          },
          "metadata": {
            "tags": []
          },
          "execution_count": 49
        }
      ]
    },
    {
      "cell_type": "code",
      "metadata": {
        "id": "xjuGDASWAWNQ",
        "colab_type": "code",
        "outputId": "8bb77d29-3f51-496b-cbaf-6ab8abf6e6dc",
        "colab": {
          "base_uri": "https://localhost:8080/",
          "height": 54
        }
      },
      "source": [
        "print(list(df.columns))"
      ],
      "execution_count": 0,
      "outputs": [
        {
          "output_type": "stream",
          "text": [
            "['id', 'hip', 'hd', 'hr', 'gl', 'bf', 'proper', 'ra', 'dec', 'dist', 'pmra', 'pmdec', 'rv', 'mag', 'absmag', 'spect', 'ci', 'x', 'y', 'z', 'vx', 'vy', 'vz', 'rarad', 'decrad', 'pmrarad', 'pmdecrad', 'bayer', 'flam', 'con', 'comp', 'comp_primary', 'base', 'lum', 'var', 'var_min', 'var_max']\n"
          ],
          "name": "stdout"
        }
      ]
    },
    {
      "cell_type": "code",
      "metadata": {
        "id": "TLC4VU0XCKXC",
        "colab_type": "code",
        "outputId": "e2ba60f2-545e-4ab1-99f9-c4f60629f699",
        "colab": {
          "base_uri": "https://localhost:8080/",
          "height": 142
        }
      },
      "source": [
        "df.dtypes.sort_values().to_frame('feature_type').groupby(by = 'feature_type').size().to_frame('count').reset_index()"
      ],
      "execution_count": 0,
      "outputs": [
        {
          "output_type": "execute_result",
          "data": {
            "text/html": [
              "<div>\n",
              "<style scoped>\n",
              "    .dataframe tbody tr th:only-of-type {\n",
              "        vertical-align: middle;\n",
              "    }\n",
              "\n",
              "    .dataframe tbody tr th {\n",
              "        vertical-align: top;\n",
              "    }\n",
              "\n",
              "    .dataframe thead th {\n",
              "        text-align: right;\n",
              "    }\n",
              "</style>\n",
              "<table border=\"1\" class=\"dataframe\">\n",
              "  <thead>\n",
              "    <tr style=\"text-align: right;\">\n",
              "      <th></th>\n",
              "      <th>feature_type</th>\n",
              "      <th>count</th>\n",
              "    </tr>\n",
              "  </thead>\n",
              "  <tbody>\n",
              "    <tr>\n",
              "      <th>0</th>\n",
              "      <td>int64</td>\n",
              "      <td>3</td>\n",
              "    </tr>\n",
              "    <tr>\n",
              "      <th>1</th>\n",
              "      <td>float64</td>\n",
              "      <td>26</td>\n",
              "    </tr>\n",
              "    <tr>\n",
              "      <th>2</th>\n",
              "      <td>object</td>\n",
              "      <td>8</td>\n",
              "    </tr>\n",
              "  </tbody>\n",
              "</table>\n",
              "</div>"
            ],
            "text/plain": [
              "  feature_type  count\n",
              "0        int64      3\n",
              "1      float64     26\n",
              "2       object      8"
            ]
          },
          "metadata": {
            "tags": []
          },
          "execution_count": 51
        }
      ]
    },
    {
      "cell_type": "code",
      "metadata": {
        "id": "3WM6i3t7RQPJ",
        "colab_type": "code",
        "colab": {}
      },
      "source": [
        "#Finding missing columns and their types\n",
        "\n",
        "df_dtypes = pd.merge(df.isnull().sum(axis = 0).sort_values().to_frame('missing_value').reset_index(),\n",
        "                     df.dtypes.to_frame('feature_type').reset_index(),\n",
        "                     on = 'index',\n",
        "                     how = 'inner')"
      ],
      "execution_count": 0,
      "outputs": []
    },
    {
      "cell_type": "code",
      "metadata": {
        "id": "iLYo1HpbSAYt",
        "colab_type": "code",
        "outputId": "d0e0ddd0-6063-409a-820c-3003b7bcf877",
        "colab": {
          "base_uri": "https://localhost:8080/",
          "height": 1000
        }
      },
      "source": [
        "df_dtypes.sort_values(['missing_value', 'feature_type'])"
      ],
      "execution_count": 0,
      "outputs": [
        {
          "output_type": "execute_result",
          "data": {
            "text/html": [
              "<div>\n",
              "<style scoped>\n",
              "    .dataframe tbody tr th:only-of-type {\n",
              "        vertical-align: middle;\n",
              "    }\n",
              "\n",
              "    .dataframe tbody tr th {\n",
              "        vertical-align: top;\n",
              "    }\n",
              "\n",
              "    .dataframe thead th {\n",
              "        text-align: right;\n",
              "    }\n",
              "</style>\n",
              "<table border=\"1\" class=\"dataframe\">\n",
              "  <thead>\n",
              "    <tr style=\"text-align: right;\">\n",
              "      <th></th>\n",
              "      <th>index</th>\n",
              "      <th>missing_value</th>\n",
              "      <th>feature_type</th>\n",
              "    </tr>\n",
              "  </thead>\n",
              "  <tbody>\n",
              "    <tr>\n",
              "      <th>0</th>\n",
              "      <td>id</td>\n",
              "      <td>0</td>\n",
              "      <td>int64</td>\n",
              "    </tr>\n",
              "    <tr>\n",
              "      <th>2</th>\n",
              "      <td>comp_primary</td>\n",
              "      <td>0</td>\n",
              "      <td>int64</td>\n",
              "    </tr>\n",
              "    <tr>\n",
              "      <th>3</th>\n",
              "      <td>comp</td>\n",
              "      <td>0</td>\n",
              "      <td>int64</td>\n",
              "    </tr>\n",
              "    <tr>\n",
              "      <th>1</th>\n",
              "      <td>lum</td>\n",
              "      <td>0</td>\n",
              "      <td>float64</td>\n",
              "    </tr>\n",
              "    <tr>\n",
              "      <th>4</th>\n",
              "      <td>pmdecrad</td>\n",
              "      <td>0</td>\n",
              "      <td>float64</td>\n",
              "    </tr>\n",
              "    <tr>\n",
              "      <th>5</th>\n",
              "      <td>pmrarad</td>\n",
              "      <td>0</td>\n",
              "      <td>float64</td>\n",
              "    </tr>\n",
              "    <tr>\n",
              "      <th>6</th>\n",
              "      <td>decrad</td>\n",
              "      <td>0</td>\n",
              "      <td>float64</td>\n",
              "    </tr>\n",
              "    <tr>\n",
              "      <th>7</th>\n",
              "      <td>rarad</td>\n",
              "      <td>0</td>\n",
              "      <td>float64</td>\n",
              "    </tr>\n",
              "    <tr>\n",
              "      <th>8</th>\n",
              "      <td>vz</td>\n",
              "      <td>0</td>\n",
              "      <td>float64</td>\n",
              "    </tr>\n",
              "    <tr>\n",
              "      <th>9</th>\n",
              "      <td>vy</td>\n",
              "      <td>0</td>\n",
              "      <td>float64</td>\n",
              "    </tr>\n",
              "    <tr>\n",
              "      <th>10</th>\n",
              "      <td>vx</td>\n",
              "      <td>0</td>\n",
              "      <td>float64</td>\n",
              "    </tr>\n",
              "    <tr>\n",
              "      <th>11</th>\n",
              "      <td>z</td>\n",
              "      <td>0</td>\n",
              "      <td>float64</td>\n",
              "    </tr>\n",
              "    <tr>\n",
              "      <th>12</th>\n",
              "      <td>x</td>\n",
              "      <td>0</td>\n",
              "      <td>float64</td>\n",
              "    </tr>\n",
              "    <tr>\n",
              "      <th>13</th>\n",
              "      <td>absmag</td>\n",
              "      <td>0</td>\n",
              "      <td>float64</td>\n",
              "    </tr>\n",
              "    <tr>\n",
              "      <th>14</th>\n",
              "      <td>y</td>\n",
              "      <td>0</td>\n",
              "      <td>float64</td>\n",
              "    </tr>\n",
              "    <tr>\n",
              "      <th>15</th>\n",
              "      <td>rv</td>\n",
              "      <td>0</td>\n",
              "      <td>float64</td>\n",
              "    </tr>\n",
              "    <tr>\n",
              "      <th>16</th>\n",
              "      <td>pmdec</td>\n",
              "      <td>0</td>\n",
              "      <td>float64</td>\n",
              "    </tr>\n",
              "    <tr>\n",
              "      <th>17</th>\n",
              "      <td>pmra</td>\n",
              "      <td>0</td>\n",
              "      <td>float64</td>\n",
              "    </tr>\n",
              "    <tr>\n",
              "      <th>18</th>\n",
              "      <td>dist</td>\n",
              "      <td>0</td>\n",
              "      <td>float64</td>\n",
              "    </tr>\n",
              "    <tr>\n",
              "      <th>19</th>\n",
              "      <td>dec</td>\n",
              "      <td>0</td>\n",
              "      <td>float64</td>\n",
              "    </tr>\n",
              "    <tr>\n",
              "      <th>20</th>\n",
              "      <td>ra</td>\n",
              "      <td>0</td>\n",
              "      <td>float64</td>\n",
              "    </tr>\n",
              "    <tr>\n",
              "      <th>21</th>\n",
              "      <td>mag</td>\n",
              "      <td>0</td>\n",
              "      <td>float64</td>\n",
              "    </tr>\n",
              "    <tr>\n",
              "      <th>22</th>\n",
              "      <td>con</td>\n",
              "      <td>1630</td>\n",
              "      <td>object</td>\n",
              "    </tr>\n",
              "    <tr>\n",
              "      <th>23</th>\n",
              "      <td>hip</td>\n",
              "      <td>1658</td>\n",
              "      <td>float64</td>\n",
              "    </tr>\n",
              "    <tr>\n",
              "      <th>24</th>\n",
              "      <td>ci</td>\n",
              "      <td>1882</td>\n",
              "      <td>float64</td>\n",
              "    </tr>\n",
              "    <tr>\n",
              "      <th>25</th>\n",
              "      <td>spect</td>\n",
              "      <td>3050</td>\n",
              "      <td>object</td>\n",
              "    </tr>\n",
              "    <tr>\n",
              "      <th>26</th>\n",
              "      <td>hd</td>\n",
              "      <td>20732</td>\n",
              "      <td>float64</td>\n",
              "    </tr>\n",
              "    <tr>\n",
              "      <th>27</th>\n",
              "      <td>var_max</td>\n",
              "      <td>102623</td>\n",
              "      <td>float64</td>\n",
              "    </tr>\n",
              "    <tr>\n",
              "      <th>28</th>\n",
              "      <td>var_min</td>\n",
              "      <td>102623</td>\n",
              "      <td>float64</td>\n",
              "    </tr>\n",
              "    <tr>\n",
              "      <th>29</th>\n",
              "      <td>hr</td>\n",
              "      <td>110589</td>\n",
              "      <td>float64</td>\n",
              "    </tr>\n",
              "    <tr>\n",
              "      <th>30</th>\n",
              "      <td>var</td>\n",
              "      <td>113624</td>\n",
              "      <td>object</td>\n",
              "    </tr>\n",
              "    <tr>\n",
              "      <th>31</th>\n",
              "      <td>gl</td>\n",
              "      <td>115813</td>\n",
              "      <td>object</td>\n",
              "    </tr>\n",
              "    <tr>\n",
              "      <th>32</th>\n",
              "      <td>bf</td>\n",
              "      <td>116516</td>\n",
              "      <td>object</td>\n",
              "    </tr>\n",
              "    <tr>\n",
              "      <th>33</th>\n",
              "      <td>flam</td>\n",
              "      <td>116874</td>\n",
              "      <td>float64</td>\n",
              "    </tr>\n",
              "    <tr>\n",
              "      <th>34</th>\n",
              "      <td>bayer</td>\n",
              "      <td>118078</td>\n",
              "      <td>object</td>\n",
              "    </tr>\n",
              "    <tr>\n",
              "      <th>35</th>\n",
              "      <td>base</td>\n",
              "      <td>118527</td>\n",
              "      <td>object</td>\n",
              "    </tr>\n",
              "    <tr>\n",
              "      <th>36</th>\n",
              "      <td>proper</td>\n",
              "      <td>119468</td>\n",
              "      <td>object</td>\n",
              "    </tr>\n",
              "  </tbody>\n",
              "</table>\n",
              "</div>"
            ],
            "text/plain": [
              "           index  missing_value feature_type\n",
              "0             id              0        int64\n",
              "2   comp_primary              0        int64\n",
              "3           comp              0        int64\n",
              "1            lum              0      float64\n",
              "4       pmdecrad              0      float64\n",
              "5        pmrarad              0      float64\n",
              "6         decrad              0      float64\n",
              "7          rarad              0      float64\n",
              "8             vz              0      float64\n",
              "9             vy              0      float64\n",
              "10            vx              0      float64\n",
              "11             z              0      float64\n",
              "12             x              0      float64\n",
              "13        absmag              0      float64\n",
              "14             y              0      float64\n",
              "15            rv              0      float64\n",
              "16         pmdec              0      float64\n",
              "17          pmra              0      float64\n",
              "18          dist              0      float64\n",
              "19           dec              0      float64\n",
              "20            ra              0      float64\n",
              "21           mag              0      float64\n",
              "22           con           1630       object\n",
              "23           hip           1658      float64\n",
              "24            ci           1882      float64\n",
              "25         spect           3050       object\n",
              "26            hd          20732      float64\n",
              "27       var_max         102623      float64\n",
              "28       var_min         102623      float64\n",
              "29            hr         110589      float64\n",
              "30           var         113624       object\n",
              "31            gl         115813       object\n",
              "32            bf         116516       object\n",
              "33          flam         116874      float64\n",
              "34         bayer         118078       object\n",
              "35          base         118527       object\n",
              "36        proper         119468       object"
            ]
          },
          "metadata": {
            "tags": []
          },
          "execution_count": 54
        }
      ]
    },
    {
      "cell_type": "code",
      "metadata": {
        "id": "2J3158UTVEbk",
        "colab_type": "code",
        "colab": {}
      },
      "source": [
        "#Check columns have more than 110000 missing values\n",
        "\n",
        "missing_df = df.isnull().sum(axis = 0).sort_values().to_frame('missing_value').reset_index()"
      ],
      "execution_count": 0,
      "outputs": []
    },
    {
      "cell_type": "code",
      "metadata": {
        "id": "Qmrv4u40WE0y",
        "colab_type": "code",
        "colab": {}
      },
      "source": [
        "miss_11 = list(missing_df[missing_df.missing_value >= 110000]['index'])"
      ],
      "execution_count": 0,
      "outputs": []
    },
    {
      "cell_type": "code",
      "metadata": {
        "id": "LgKhN4SgWqU5",
        "colab_type": "code",
        "outputId": "c7cfd9e3-bd86-419f-95fe-6ac7b8ebad25",
        "colab": {
          "base_uri": "https://localhost:8080/",
          "height": 35
        }
      },
      "source": [
        "print(len(miss_11))"
      ],
      "execution_count": 0,
      "outputs": [
        {
          "output_type": "stream",
          "text": [
            "8\n"
          ],
          "name": "stdout"
        }
      ]
    },
    {
      "cell_type": "code",
      "metadata": {
        "id": "Vn75Yag4fLdt",
        "colab_type": "code",
        "outputId": "10a3d257-3ce6-4dc4-e990-cda264b039be",
        "colab": {
          "base_uri": "https://localhost:8080/",
          "height": 35
        }
      },
      "source": [
        "print(sorted(miss_11))"
      ],
      "execution_count": 0,
      "outputs": [
        {
          "output_type": "stream",
          "text": [
            "['base', 'bayer', 'bf', 'flam', 'gl', 'hr', 'proper', 'var']\n"
          ],
          "name": "stdout"
        }
      ]
    },
    {
      "cell_type": "code",
      "metadata": {
        "id": "P1tTeH8gXyoJ",
        "colab_type": "code",
        "colab": {}
      },
      "source": [
        "df.drop(miss_11, axis = 1, inplace = True)"
      ],
      "execution_count": 0,
      "outputs": []
    },
    {
      "cell_type": "code",
      "metadata": {
        "id": "UNJ6TyNUhGDo",
        "colab_type": "code",
        "outputId": "e68eec98-044d-4201-ce7d-040a5ec823af",
        "colab": {
          "base_uri": "https://localhost:8080/",
          "height": 274
        }
      },
      "source": [
        "df.head()"
      ],
      "execution_count": 0,
      "outputs": [
        {
          "output_type": "execute_result",
          "data": {
            "text/html": [
              "<div>\n",
              "<style scoped>\n",
              "    .dataframe tbody tr th:only-of-type {\n",
              "        vertical-align: middle;\n",
              "    }\n",
              "\n",
              "    .dataframe tbody tr th {\n",
              "        vertical-align: top;\n",
              "    }\n",
              "\n",
              "    .dataframe thead th {\n",
              "        text-align: right;\n",
              "    }\n",
              "</style>\n",
              "<table border=\"1\" class=\"dataframe\">\n",
              "  <thead>\n",
              "    <tr style=\"text-align: right;\">\n",
              "      <th></th>\n",
              "      <th>id</th>\n",
              "      <th>hip</th>\n",
              "      <th>hd</th>\n",
              "      <th>ra</th>\n",
              "      <th>dec</th>\n",
              "      <th>dist</th>\n",
              "      <th>pmra</th>\n",
              "      <th>pmdec</th>\n",
              "      <th>rv</th>\n",
              "      <th>mag</th>\n",
              "      <th>absmag</th>\n",
              "      <th>spect</th>\n",
              "      <th>ci</th>\n",
              "      <th>x</th>\n",
              "      <th>y</th>\n",
              "      <th>z</th>\n",
              "      <th>vx</th>\n",
              "      <th>vy</th>\n",
              "      <th>vz</th>\n",
              "      <th>rarad</th>\n",
              "      <th>decrad</th>\n",
              "      <th>pmrarad</th>\n",
              "      <th>pmdecrad</th>\n",
              "      <th>con</th>\n",
              "      <th>comp</th>\n",
              "      <th>comp_primary</th>\n",
              "      <th>lum</th>\n",
              "      <th>var_min</th>\n",
              "      <th>var_max</th>\n",
              "    </tr>\n",
              "  </thead>\n",
              "  <tbody>\n",
              "    <tr>\n",
              "      <th>0</th>\n",
              "      <td>0</td>\n",
              "      <td>NaN</td>\n",
              "      <td>NaN</td>\n",
              "      <td>0.000000</td>\n",
              "      <td>0.000000</td>\n",
              "      <td>0.0000</td>\n",
              "      <td>0.00</td>\n",
              "      <td>0.00</td>\n",
              "      <td>0.0</td>\n",
              "      <td>-26.70</td>\n",
              "      <td>4.850</td>\n",
              "      <td>G2V</td>\n",
              "      <td>0.656</td>\n",
              "      <td>0.000005</td>\n",
              "      <td>0.000000</td>\n",
              "      <td>0.000000</td>\n",
              "      <td>0.000000e+00</td>\n",
              "      <td>0.000000</td>\n",
              "      <td>0.000000e+00</td>\n",
              "      <td>0.000000</td>\n",
              "      <td>0.000000</td>\n",
              "      <td>0.000000e+00</td>\n",
              "      <td>0.000000e+00</td>\n",
              "      <td>NaN</td>\n",
              "      <td>1</td>\n",
              "      <td>0</td>\n",
              "      <td>1.000000</td>\n",
              "      <td>NaN</td>\n",
              "      <td>NaN</td>\n",
              "    </tr>\n",
              "    <tr>\n",
              "      <th>1</th>\n",
              "      <td>1</td>\n",
              "      <td>1.0</td>\n",
              "      <td>224700.0</td>\n",
              "      <td>0.000060</td>\n",
              "      <td>1.089009</td>\n",
              "      <td>219.7802</td>\n",
              "      <td>-5.20</td>\n",
              "      <td>-1.88</td>\n",
              "      <td>0.0</td>\n",
              "      <td>9.10</td>\n",
              "      <td>2.390</td>\n",
              "      <td>F5</td>\n",
              "      <td>0.482</td>\n",
              "      <td>219.740502</td>\n",
              "      <td>0.003449</td>\n",
              "      <td>4.177065</td>\n",
              "      <td>4.000000e-08</td>\n",
              "      <td>-0.000006</td>\n",
              "      <td>-2.000000e-06</td>\n",
              "      <td>0.000016</td>\n",
              "      <td>0.019007</td>\n",
              "      <td>-2.521031e-08</td>\n",
              "      <td>-9.114497e-09</td>\n",
              "      <td>Psc</td>\n",
              "      <td>1</td>\n",
              "      <td>1</td>\n",
              "      <td>9.638290</td>\n",
              "      <td>NaN</td>\n",
              "      <td>NaN</td>\n",
              "    </tr>\n",
              "    <tr>\n",
              "      <th>2</th>\n",
              "      <td>2</td>\n",
              "      <td>2.0</td>\n",
              "      <td>224690.0</td>\n",
              "      <td>0.000283</td>\n",
              "      <td>-19.498840</td>\n",
              "      <td>47.9616</td>\n",
              "      <td>181.21</td>\n",
              "      <td>-0.93</td>\n",
              "      <td>0.0</td>\n",
              "      <td>9.27</td>\n",
              "      <td>5.866</td>\n",
              "      <td>K3V</td>\n",
              "      <td>0.999</td>\n",
              "      <td>45.210918</td>\n",
              "      <td>0.003365</td>\n",
              "      <td>-16.008996</td>\n",
              "      <td>-7.000000e-08</td>\n",
              "      <td>0.000042</td>\n",
              "      <td>-2.000000e-07</td>\n",
              "      <td>0.000074</td>\n",
              "      <td>-0.340319</td>\n",
              "      <td>8.785309e-07</td>\n",
              "      <td>-4.508767e-09</td>\n",
              "      <td>Cet</td>\n",
              "      <td>1</td>\n",
              "      <td>2</td>\n",
              "      <td>0.392283</td>\n",
              "      <td>NaN</td>\n",
              "      <td>NaN</td>\n",
              "    </tr>\n",
              "    <tr>\n",
              "      <th>3</th>\n",
              "      <td>3</td>\n",
              "      <td>3.0</td>\n",
              "      <td>224699.0</td>\n",
              "      <td>0.000335</td>\n",
              "      <td>38.859279</td>\n",
              "      <td>442.4779</td>\n",
              "      <td>5.24</td>\n",
              "      <td>-2.91</td>\n",
              "      <td>0.0</td>\n",
              "      <td>6.61</td>\n",
              "      <td>-1.619</td>\n",
              "      <td>B9</td>\n",
              "      <td>-0.019</td>\n",
              "      <td>344.552785</td>\n",
              "      <td>0.030213</td>\n",
              "      <td>277.614965</td>\n",
              "      <td>3.920000e-06</td>\n",
              "      <td>0.000011</td>\n",
              "      <td>-4.860000e-06</td>\n",
              "      <td>0.000088</td>\n",
              "      <td>0.678222</td>\n",
              "      <td>2.540424e-08</td>\n",
              "      <td>-1.410808e-08</td>\n",
              "      <td>And</td>\n",
              "      <td>1</td>\n",
              "      <td>3</td>\n",
              "      <td>386.901132</td>\n",
              "      <td>NaN</td>\n",
              "      <td>NaN</td>\n",
              "    </tr>\n",
              "    <tr>\n",
              "      <th>4</th>\n",
              "      <td>4</td>\n",
              "      <td>4.0</td>\n",
              "      <td>224707.0</td>\n",
              "      <td>0.000569</td>\n",
              "      <td>-51.893546</td>\n",
              "      <td>134.2282</td>\n",
              "      <td>62.85</td>\n",
              "      <td>0.16</td>\n",
              "      <td>0.0</td>\n",
              "      <td>8.06</td>\n",
              "      <td>2.421</td>\n",
              "      <td>F0V</td>\n",
              "      <td>0.370</td>\n",
              "      <td>82.835513</td>\n",
              "      <td>0.012476</td>\n",
              "      <td>-105.619540</td>\n",
              "      <td>8.000000e-08</td>\n",
              "      <td>0.000041</td>\n",
              "      <td>6.000000e-08</td>\n",
              "      <td>0.000149</td>\n",
              "      <td>-0.905713</td>\n",
              "      <td>3.047054e-07</td>\n",
              "      <td>7.757010e-10</td>\n",
              "      <td>Phe</td>\n",
              "      <td>1</td>\n",
              "      <td>4</td>\n",
              "      <td>9.366989</td>\n",
              "      <td>NaN</td>\n",
              "      <td>NaN</td>\n",
              "    </tr>\n",
              "  </tbody>\n",
              "</table>\n",
              "</div>"
            ],
            "text/plain": [
              "   id  hip        hd        ra  ...  comp_primary         lum  var_min  var_max\n",
              "0   0  NaN       NaN  0.000000  ...             0    1.000000      NaN      NaN\n",
              "1   1  1.0  224700.0  0.000060  ...             1    9.638290      NaN      NaN\n",
              "2   2  2.0  224690.0  0.000283  ...             2    0.392283      NaN      NaN\n",
              "3   3  3.0  224699.0  0.000335  ...             3  386.901132      NaN      NaN\n",
              "4   4  4.0  224707.0  0.000569  ...             4    9.366989      NaN      NaN\n",
              "\n",
              "[5 rows x 29 columns]"
            ]
          },
          "metadata": {
            "tags": []
          },
          "execution_count": 69
        }
      ]
    },
    {
      "cell_type": "code",
      "metadata": {
        "id": "6IDB7sPmX8yi",
        "colab_type": "code",
        "colab": {}
      },
      "source": [
        "#Remove constant features\n",
        "\n",
        "def find_constant_features(dataFrame):\n",
        "  const_features = []\n",
        "  for column in list(dataFrame.columns):\n",
        "    if dataFrame[column].unique().size < 2:\n",
        "      const_features.append(column)\n",
        "  return const_features"
      ],
      "execution_count": 0,
      "outputs": []
    },
    {
      "cell_type": "code",
      "metadata": {
        "id": "4lWvQlT4ZGnj",
        "colab_type": "code",
        "colab": {}
      },
      "source": [
        "const_features = find_constant_features(df)"
      ],
      "execution_count": 0,
      "outputs": []
    },
    {
      "cell_type": "code",
      "metadata": {
        "id": "5CxT24KBZSfP",
        "colab_type": "code",
        "outputId": "1198a313-c113-4d58-a7c6-b2d35a126ce4",
        "colab": {
          "base_uri": "https://localhost:8080/",
          "height": 35
        }
      },
      "source": [
        "const_features"
      ],
      "execution_count": 0,
      "outputs": [
        {
          "output_type": "execute_result",
          "data": {
            "text/plain": [
              "[]"
            ]
          },
          "metadata": {
            "tags": []
          },
          "execution_count": 61
        }
      ]
    },
    {
      "cell_type": "code",
      "metadata": {
        "id": "UZOMjdC2ZdUR",
        "colab_type": "code",
        "outputId": "676f64ca-3f7f-42d6-95f4-59a9c74d9e19",
        "colab": {
          "base_uri": "https://localhost:8080/",
          "height": 35
        }
      },
      "source": [
        "df.shape"
      ],
      "execution_count": 0,
      "outputs": [
        {
          "output_type": "execute_result",
          "data": {
            "text/plain": [
              "(119614, 29)"
            ]
          },
          "metadata": {
            "tags": []
          },
          "execution_count": 62
        }
      ]
    },
    {
      "cell_type": "code",
      "metadata": {
        "id": "xH7j48QyZ29F",
        "colab_type": "code",
        "colab": {}
      },
      "source": [
        "#Remove duplicate rows\n",
        "\n",
        "df.drop_duplicates(inplace = True)"
      ],
      "execution_count": 0,
      "outputs": []
    },
    {
      "cell_type": "code",
      "metadata": {
        "id": "CrJKMNFRZ_wP",
        "colab_type": "code",
        "outputId": "36c3d391-0508-4ce0-e589-a503e422c3c0",
        "colab": {
          "base_uri": "https://localhost:8080/",
          "height": 35
        }
      },
      "source": [
        "df.shape"
      ],
      "execution_count": 0,
      "outputs": [
        {
          "output_type": "execute_result",
          "data": {
            "text/plain": [
              "(119614, 29)"
            ]
          },
          "metadata": {
            "tags": []
          },
          "execution_count": 64
        }
      ]
    },
    {
      "cell_type": "code",
      "metadata": {
        "id": "bEJyEN1AaEEY",
        "colab_type": "code",
        "colab": {}
      },
      "source": [
        "#Remove duplicate columns\n",
        "\n",
        "def duplicate_columns(frame):\n",
        "  groups = frame.columns.to_series().groupby(frame.dtypes).groups\n",
        "  dups = []\n",
        "\n",
        "  for t, v in groups.items():\n",
        "\n",
        "    cs = frame[v].columns\n",
        "    vs = frame[v]\n",
        "    lcs = len(cs)\n",
        "\n",
        "    for i in range(lcs):\n",
        "      ia = vs.iloc[:,i].values\n",
        "      for j in range(i+1, lcs):\n",
        "        ja = vs.iloc[:,j].values\n",
        "        if np.array_equal(ia, ja):\n",
        "          dups.append(cs[i])\n",
        "          break\n",
        "\n",
        "  return dups"
      ],
      "execution_count": 0,
      "outputs": []
    },
    {
      "cell_type": "code",
      "metadata": {
        "id": "WBzcxPjPe6-o",
        "colab_type": "code",
        "colab": {}
      },
      "source": [
        "duplicate_cols = duplicate_columns(df)"
      ],
      "execution_count": 0,
      "outputs": []
    },
    {
      "cell_type": "code",
      "metadata": {
        "id": "n-Ylp9AMfFOM",
        "colab_type": "code",
        "outputId": "bc629fb1-3f4c-4244-b81b-850ca9fda0da",
        "colab": {
          "base_uri": "https://localhost:8080/",
          "height": 35
        }
      },
      "source": [
        "duplicate_cols"
      ],
      "execution_count": 0,
      "outputs": [
        {
          "output_type": "execute_result",
          "data": {
            "text/plain": [
              "[]"
            ]
          },
          "metadata": {
            "tags": []
          },
          "execution_count": 67
        }
      ]
    },
    {
      "cell_type": "code",
      "metadata": {
        "id": "EqBoWEv0jwNV",
        "colab_type": "code",
        "colab": {}
      },
      "source": [
        ""
      ],
      "execution_count": 0,
      "outputs": []
    },
    {
      "cell_type": "code",
      "metadata": {
        "id": "Mu7SWmCN4pX6",
        "colab_type": "code",
        "colab": {}
      },
      "source": [
        ""
      ],
      "execution_count": 0,
      "outputs": []
    },
    {
      "cell_type": "code",
      "metadata": {
        "id": "nX1jRvUD4ppF",
        "colab_type": "code",
        "colab": {}
      },
      "source": [
        ""
      ],
      "execution_count": 0,
      "outputs": []
    },
    {
      "cell_type": "code",
      "metadata": {
        "id": "5k9vTfXS1XYE",
        "colab_type": "code",
        "outputId": "0b5a4740-0b55-4437-ffa9-519002419c4f",
        "colab": {
          "base_uri": "https://localhost:8080/",
          "height": 85
        }
      },
      "source": [
        "!pip install --user --upgrade scikit-learn"
      ],
      "execution_count": 0,
      "outputs": [
        {
          "output_type": "stream",
          "text": [
            "Requirement already up-to-date: scikit-learn in /usr/local/lib/python3.6/dist-packages (0.22.1)\n",
            "Requirement already satisfied, skipping upgrade: scipy>=0.17.0 in /usr/local/lib/python3.6/dist-packages (from scikit-learn) (1.4.1)\n",
            "Requirement already satisfied, skipping upgrade: joblib>=0.11 in /usr/local/lib/python3.6/dist-packages (from scikit-learn) (0.14.1)\n",
            "Requirement already satisfied, skipping upgrade: numpy>=1.11.0 in /usr/local/lib/python3.6/dist-packages (from scikit-learn) (1.17.5)\n"
          ],
          "name": "stdout"
        }
      ]
    },
    {
      "cell_type": "code",
      "metadata": {
        "id": "Wxi3vdjV4JnL",
        "colab_type": "code",
        "outputId": "cdef4f68-2947-415d-dbd4-6826e20d8ebd",
        "colab": {
          "base_uri": "https://localhost:8080/",
          "height": 34
        }
      },
      "source": [
        "!whoami"
      ],
      "execution_count": 0,
      "outputs": [
        {
          "output_type": "stream",
          "text": [
            "root\n"
          ],
          "name": "stdout"
        }
      ]
    },
    {
      "cell_type": "code",
      "metadata": {
        "id": "_uMLhOsX4nqx",
        "colab_type": "code",
        "colab": {}
      },
      "source": [
        "import sys\n",
        "sys.path.insert(0,\"/gpfs/fs01/user/root/.local/lib/python2.7/site-packages\")"
      ],
      "execution_count": 0,
      "outputs": []
    },
    {
      "cell_type": "code",
      "metadata": {
        "id": "MiJvbEVy4vpc",
        "colab_type": "code",
        "outputId": "258f09e8-23b5-409d-eda1-d576f544bb43",
        "colab": {
          "base_uri": "https://localhost:8080/",
          "height": 34
        }
      },
      "source": [
        "import sklearn\n",
        "sklearn.__version__"
      ],
      "execution_count": 0,
      "outputs": [
        {
          "output_type": "execute_result",
          "data": {
            "text/plain": [
              "'0.22.1'"
            ]
          },
          "metadata": {
            "tags": []
          },
          "execution_count": 39
        }
      ]
    },
    {
      "cell_type": "code",
      "metadata": {
        "id": "xKFuhezV4Oan",
        "colab_type": "code",
        "colab": {}
      },
      "source": [
        "from sklearn.impute import SimpleImputer \n",
        "imputer = SimpleImputer(missing_values = \"NaN\", strategy = \"mean\")"
      ],
      "execution_count": 0,
      "outputs": []
    },
    {
      "cell_type": "code",
      "metadata": {
        "id": "g8yXR2wNKsfL",
        "colab_type": "code",
        "outputId": "bb78ad1e-c682-4fb1-d622-806ed5b56e55",
        "colab": {
          "base_uri": "https://localhost:8080/",
          "height": 235
        }
      },
      "source": [
        "# Split data into training and testing sets\n",
        "features = [\n",
        "'id',\n",
        "'hip',\n",
        "'hd',\n",
        "'ra',\n",
        "'dec',\n",
        "'dist',\n",
        "'pmra',\n",
        "'pmdec',\n",
        "'rv',\n",
        "'mag',\n",
        "'absmag',\n",
        "'spect',\n",
        "'ci',\n",
        "'x',\n",
        "'y',\n",
        "'z',\n",
        "'vx',\n",
        "'vy',\n",
        "'vz',\n",
        "'rarad',\n",
        "'decrad',\n",
        "'pmrarad',\n",
        "'pmdecrad',\n",
        "'con',\n",
        "'comp',\n",
        "'comp_primary',\n",
        "'lum',\n",
        "'var_min',\n",
        "'var_max',\n",
        "]\n",
        "\n",
        "#'Last Updated', \n",
        "\n",
        "X = df[features]\n",
        "y = df['Value']\n",
        "\n",
        "X_train, X_test, y_train, y_test = train_test_split(X, y, test_size = 0.15, random_state = 25)\n",
        "print(X_train.shape)\n",
        "print(X_test.shape)\n",
        "print(y_train.shape)\n",
        "print(y_test.shape)\n",
        "\n",
        "\n",
        "# Look at the closest neighbors\n",
        "n_size = None\n",
        "n_best = None\n",
        "max_acc = 0\n",
        "for n_size in range(1, 30):\n",
        "    print(\"If n is\", n_size)\n",
        "    model = KNeighborsRegressor(n_neighbors=n_size)\n",
        "    # Calculate the mean accuracy of the KNN model\n",
        "    model.fit(X_train, y_train)\n",
        "    accuracy = model.score(X_test,y_test)\n",
        "    if(max_acc < accuracy):\n",
        "        max_acc = accuracy\n",
        "        n_best = n_size\n",
        "    print('Accuracy: ' + str(np.round(accuracy*100, 2)) + '%')\n",
        "    "
      ],
      "execution_count": 0,
      "outputs": [
        {
          "output_type": "error",
          "ename": "NameError",
          "evalue": "ignored",
          "traceback": [
            "\u001b[0;31m---------------------------------------------------------------------------\u001b[0m",
            "\u001b[0;31mNameError\u001b[0m                                 Traceback (most recent call last)",
            "\u001b[0;32m<ipython-input-2-7737a0a21dde>\u001b[0m in \u001b[0;36m<module>\u001b[0;34m()\u001b[0m\n\u001b[1;32m     33\u001b[0m \u001b[0;31m#'Last Updated',\u001b[0m\u001b[0;34m\u001b[0m\u001b[0;34m\u001b[0m\u001b[0;34m\u001b[0m\u001b[0m\n\u001b[1;32m     34\u001b[0m \u001b[0;34m\u001b[0m\u001b[0m\n\u001b[0;32m---> 35\u001b[0;31m \u001b[0mX\u001b[0m \u001b[0;34m=\u001b[0m \u001b[0mdf\u001b[0m\u001b[0;34m[\u001b[0m\u001b[0mfeatures\u001b[0m\u001b[0;34m]\u001b[0m\u001b[0;34m\u001b[0m\u001b[0;34m\u001b[0m\u001b[0m\n\u001b[0m\u001b[1;32m     36\u001b[0m \u001b[0my\u001b[0m \u001b[0;34m=\u001b[0m \u001b[0mdf\u001b[0m\u001b[0;34m[\u001b[0m\u001b[0;34m'Value'\u001b[0m\u001b[0;34m]\u001b[0m\u001b[0;34m\u001b[0m\u001b[0;34m\u001b[0m\u001b[0m\n\u001b[1;32m     37\u001b[0m \u001b[0;34m\u001b[0m\u001b[0m\n",
            "\u001b[0;31mNameError\u001b[0m: name 'df' is not defined"
          ]
        }
      ]
    },
    {
      "cell_type": "code",
      "metadata": {
        "id": "kgHcSUG1O9-D",
        "colab_type": "code",
        "outputId": "86173726-2588-4ac2-cdf2-d43f273a4126",
        "colab": {
          "base_uri": "https://localhost:8080/",
          "height": 231
        }
      },
      "source": [
        "print(\"If n is\", n_best)\n",
        "model = KNeighborsRegressor(n_neighbors=n_best)\n",
        "# Calculate the mean accuracy of the KNN model\n",
        "model.fit(X_train, y_train)\n",
        "accuracy = model.score(X_test,y_test)\n",
        "print('Accuracy: ' + str(np.round(accuracy*100, 2)) + '%')"
      ],
      "execution_count": 0,
      "outputs": [
        {
          "output_type": "error",
          "ename": "NameError",
          "evalue": "ignored",
          "traceback": [
            "\u001b[0;31m---------------------------------------------------------------------------\u001b[0m",
            "\u001b[0;31mNameError\u001b[0m                                 Traceback (most recent call last)",
            "\u001b[0;32m<ipython-input-13-1ae2063780d0>\u001b[0m in \u001b[0;36m<module>\u001b[0;34m()\u001b[0m\n\u001b[0;32m----> 1\u001b[0;31m \u001b[0mprint\u001b[0m\u001b[0;34m(\u001b[0m\u001b[0;34m\"If n is\"\u001b[0m\u001b[0;34m,\u001b[0m \u001b[0mn_best\u001b[0m\u001b[0;34m)\u001b[0m\u001b[0;34m\u001b[0m\u001b[0;34m\u001b[0m\u001b[0m\n\u001b[0m\u001b[1;32m      2\u001b[0m \u001b[0mmodel\u001b[0m \u001b[0;34m=\u001b[0m \u001b[0mKNeighborsRegressor\u001b[0m\u001b[0;34m(\u001b[0m\u001b[0mn_neighbors\u001b[0m\u001b[0;34m=\u001b[0m\u001b[0mn_best\u001b[0m\u001b[0;34m)\u001b[0m\u001b[0;34m\u001b[0m\u001b[0;34m\u001b[0m\u001b[0m\n\u001b[1;32m      3\u001b[0m \u001b[0;31m# Calculate the mean accuracy of the KNN model\u001b[0m\u001b[0;34m\u001b[0m\u001b[0;34m\u001b[0m\u001b[0;34m\u001b[0m\u001b[0m\n\u001b[1;32m      4\u001b[0m \u001b[0mmodel\u001b[0m\u001b[0;34m.\u001b[0m\u001b[0mfit\u001b[0m\u001b[0;34m(\u001b[0m\u001b[0mX_train\u001b[0m\u001b[0;34m,\u001b[0m \u001b[0my_train\u001b[0m\u001b[0;34m)\u001b[0m\u001b[0;34m\u001b[0m\u001b[0;34m\u001b[0m\u001b[0m\n\u001b[1;32m      5\u001b[0m \u001b[0maccuracy\u001b[0m \u001b[0;34m=\u001b[0m \u001b[0mmodel\u001b[0m\u001b[0;34m.\u001b[0m\u001b[0mscore\u001b[0m\u001b[0;34m(\u001b[0m\u001b[0mX_test\u001b[0m\u001b[0;34m,\u001b[0m\u001b[0my_test\u001b[0m\u001b[0;34m)\u001b[0m\u001b[0;34m\u001b[0m\u001b[0;34m\u001b[0m\u001b[0m\n",
            "\u001b[0;31mNameError\u001b[0m: name 'n_best' is not defined"
          ]
        }
      ]
    }
  ]
}